{
 "cells": [
  {
   "cell_type": "code",
   "execution_count": 3,
   "metadata": {},
   "outputs": [],
   "source": [
    "import numpy as np\n",
    "from sklearn import tree\n",
    "from sklearn.metrics import precision_recall_curve\n",
    "from sklearn.metrics import classification_report\n",
    "from sklearn.model_selection import train_test_split"
   ]
  },
  {
   "cell_type": "code",
   "execution_count": 4,
   "metadata": {},
   "outputs": [],
   "source": [
    "class DecisionTree():\n",
    "    def createDataSet(self):\n",
    "        data = []\n",
    "        labels = []\n",
    "        with open(r\"..\\data\\Ch03\\data.txt\", \"r\") as ifile:\n",
    "            for line in ifile:\n",
    "                tokens = line.strip().split(\" \")\n",
    "                data.append([float(tk) for tk in tokens[:-1]])\n",
    "                labels.append(tokens[-1])\n",
    "        \n",
    "        x = np.array(data)\n",
    "        labels = np.array(labels)\n",
    "        y = np.zeros(labels.shape)\n",
    "        \n",
    "        \"\"\"convert \"fat\" or \"thin\" into 1 and 0 \"\"\"\n",
    "        y[labels == \"fat\"] = 1\n",
    "        print(data, '-------', x, '-------', labels, '-------', y)\n",
    "        return x, y\n",
    "    \n",
    "    def predict_train(self, x_train, y_train):\n",
    "        clf = tree.DecisionTreeClassifier(criterion = 'entropy')\n",
    "        clf.fit(x_train, y_train)\n",
    "        \n",
    "        print('feature_importances_: %s' % clf.feature_importances_)\n",
    "        \n",
    "        y_pre = clf.predict(x_train)\n",
    "        print(y_pre)\n",
    "        print(y_train)\n",
    "        print(np.mean(y_pre == y_train))\n",
    "        return y_pre, clf\n",
    "    \n",
    "    def show_precision_recall(self, x, y, clf, y_train, y_pre):\n",
    "        precision, recall, thresholds = precision_recall_curve(y_train, y_pre)\n",
    "        answer = clf.predict_proba(x)[:, 1]\n",
    "        target_names = ['thin', 'fat']\n",
    "        print(classification_report(y, answer, target_names=target_names))\n",
    "        print(answer)\n",
    "        print(y)           "
   ]
  },
  {
   "cell_type": "code",
   "execution_count": 5,
   "metadata": {},
   "outputs": [
    {
     "name": "stdout",
     "output_type": "stream",
     "text": [
      "[[1.5, 50.0], [1.5, 60.0], [1.6, 40.0], [1.6, 60.0], [1.7, 60.0], [1.7, 80.0], [1.8, 60.0], [1.8, 90.0], [1.9, 70.0], [1.9, 80.0]] ------- [[ 1.5 50. ]\n",
      " [ 1.5 60. ]\n",
      " [ 1.6 40. ]\n",
      " [ 1.6 60. ]\n",
      " [ 1.7 60. ]\n",
      " [ 1.7 80. ]\n",
      " [ 1.8 60. ]\n",
      " [ 1.8 90. ]\n",
      " [ 1.9 70. ]\n",
      " [ 1.9 80. ]] ------- ['thin' 'fat' 'thin' 'fat' 'thin' 'fat' 'thin' 'fat' 'thin' 'thin'] ------- [0. 1. 0. 1. 0. 1. 0. 1. 0. 0.]\n",
      "拆分数据： [[ 1.7 80. ]\n",
      " [ 1.5 50. ]\n",
      " [ 1.6 40. ]\n",
      " [ 1.9 80. ]\n",
      " [ 1.6 60. ]\n",
      " [ 1.7 60. ]\n",
      " [ 1.8 90. ]\n",
      " [ 1.5 60. ]] [[ 1.8 60. ]\n",
      " [ 1.9 70. ]] [1. 0. 0. 0. 1. 0. 1. 1.] [0. 0.]\n",
      "feature_importances_: [0.58187775 0.41812225]\n",
      "[1. 0. 0. 0. 1. 0. 1. 1.]\n",
      "[1. 0. 0. 0. 1. 0. 1. 1.]\n",
      "1.0\n",
      "              precision    recall  f1-score   support\n",
      "\n",
      "        thin       1.00      1.00      1.00         6\n",
      "         fat       1.00      1.00      1.00         4\n",
      "\n",
      "    accuracy                           1.00        10\n",
      "   macro avg       1.00      1.00      1.00        10\n",
      "weighted avg       1.00      1.00      1.00        10\n",
      "\n",
      "[0. 1. 0. 1. 0. 1. 0. 1. 0. 0.]\n",
      "[0. 1. 0. 1. 0. 1. 0. 1. 0. 0.]\n"
     ]
    }
   ],
   "source": [
    "if __name__ == '__main__':\n",
    "    DT = DecisionTree()\n",
    "    x, y = DT.createDataSet()\n",
    "\n",
    "    ''' 拆分训练数据与测试数据， 80%做训练 20%做测试 '''\n",
    "    x_train, x_test, y_train, y_test = train_test_split(x, y, test_size=0.2)\n",
    "    print('拆分数据：', x_train, x_test, y_train, y_test)\n",
    "\n",
    "    # 得到训练的预测结果集\n",
    "    y_pre, clf = DT.predict_train(x_train, y_train)\n",
    "\n",
    "    # 展现 准确率与召回率\n",
    "    DT.show_precision_recall(x, y, clf, y_train, y_pre)"
   ]
  }
 ],
 "metadata": {
  "kernelspec": {
   "display_name": "Python 3",
   "language": "python",
   "name": "python3"
  },
  "language_info": {
   "codemirror_mode": {
    "name": "ipython",
    "version": 3
   },
   "file_extension": ".py",
   "mimetype": "text/x-python",
   "name": "python",
   "nbconvert_exporter": "python",
   "pygments_lexer": "ipython3",
   "version": "3.7.3"
  }
 },
 "nbformat": 4,
 "nbformat_minor": 2
}
