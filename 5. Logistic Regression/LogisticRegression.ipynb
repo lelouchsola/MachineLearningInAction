{
 "cells": [
  {
   "cell_type": "markdown",
   "metadata": {},
   "source": [
    "Machine learning in Action.<br>\n",
    "Chapter 5 : Logistic Regression"
   ]
  },
  {
   "cell_type": "markdown",
   "metadata": {},
   "source": [
    "Some important function for logistic regression:\n",
    "1. Sigmoid : 1 / (1 + e^-z). The return value represents the probability (该sample被分到类1的概率)\n",
    "2. Sigmoid input function z: z = wT x, wT is a vector, the weight coefficient vector\n",
    "3. Likehood function / cost function. (互为正负) Details about likehood function: https://www.zhihu.com/question/54082000/answer/470252492"
   ]
  },
  {
   "cell_type": "code",
   "execution_count": 9,
   "metadata": {},
   "outputs": [],
   "source": [
    "import numpy as np\n",
    "import matplotlib.pyplot as plt"
   ]
  },
  {
   "cell_type": "code",
   "execution_count": 34,
   "metadata": {},
   "outputs": [],
   "source": [
    "class LogisticRegression():\n",
    "    def loadData(self, filename):\n",
    "        \"\"\"\n",
    "        Desc:\n",
    "            load dataset\n",
    "        Args:\n",
    "            filename -- dataset filepath\n",
    "        Returns:\n",
    "            dataMat -- feature matrix\n",
    "            labelMat -- labels\n",
    "        \"\"\"\n",
    "        dataMat = []\n",
    "        labelMat = []\n",
    "        fr = open(filename)\n",
    "        for line in fr.readlines():\n",
    "            lineArr = line.strip().split() # split by blankspace\n",
    "            if len(lineArr) == 1:\n",
    "                continue\n",
    "            dataMat.append([1.0, float(lineArr[0]), float(lineArr[1])]) # add x0 = 1 in each feature vector\n",
    "            labelMat.append(int(lineArr[2]))\n",
    "        return dataMat, labelMat\n",
    "    \n",
    "    def sigmoid(self, inX):\n",
    "        \"\"\"\n",
    "        Desc:\n",
    "            calculate the sigmoid function result with giving feature vector\n",
    "        Args:\n",
    "            inX -- feature vector\n",
    "        Returns:\n",
    "            the sigmoid function result\n",
    "        \"\"\"\n",
    "        # return 1.0 / (1 + exp(-inX))\n",
    "        # The function Tanh's mean is 0, so the performance of tanh will be better than sigmoid\n",
    "        return 2 * 1.0 / (1 + exp(-2 * inX)) - 1\n",
    "    \n",
    "    def plotOriData(self, dataArr, labelMat):\n",
    "        \"\"\"\n",
    "        Desc:\n",
    "            visualize the original data (scatter plot)\n",
    "        Args:\n",
    "            dataArr -- feature matrix\n",
    "            labelMat -- labels\n",
    "        Return:\n",
    "            None\n",
    "        \"\"\"\n",
    "        dataArr = np.array(dataArr)\n",
    "        n = np.shape(dataArr)[0] # sample number\n",
    "        xcord1 = []\n",
    "        ycord1 = []\n",
    "        xcord2 = []\n",
    "        ycord2 = []\n",
    "        for i in range(n):\n",
    "            # split samples according to their label value\n",
    "            # group the sample with label = 1 (category 1)\n",
    "            if labelMat[i] == 1: \n",
    "                xcord1.append(dataArr[i, 1]) # the first feature, it should be noted that x0 = 1\n",
    "                ycord1.append(dataArr[i, 2]) # the second feature\n",
    "            \n",
    "            # group the sample with label = 0 (category 2)\n",
    "            else:\n",
    "                xcord2.append(dataArr[i, 1]) # the first feature, it should be noted that x0 = 1\n",
    "                ycord2.append(dataArr[i, 2]) # the second feature\n",
    "                \n",
    "        fig = plt.figure()\n",
    "        ax = fig.add_subplot(111)\n",
    "        ax.scatter(xcord1, ycord1, s=30, c='red', marker='s') # use red point to represent the samples in category 1\n",
    "        ax.scatter(xcord2, ycord2, s=30, c='green') # use green point to represent the samples in category 2\n",
    "        plt.xlabel(\"X\")\n",
    "        plt.ylabel(\"Y\")\n",
    "        plt.show()\n",
    "    \n",
    "    \n",
    "            \n",
    "            \n",
    "            \n",
    "            "
   ]
  },
  {
   "cell_type": "code",
   "execution_count": 35,
   "metadata": {},
   "outputs": [
    {
     "data": {
      "image/png": "[encoded data removed]",
      "text/plain": [
       "<Figure size 432x288 with 1 Axes>"
      ]
     },
     "metadata": {
      "needs_background": "light"
     },
     "output_type": "display_data"
    }
   ],
   "source": [
    "LR = LogisticRegression()\n",
    "dataMat, labelMat = LR.loadData(r'..\\data\\Ch05\\testSet.txt')\n",
    "LR.plotOriData(dataMat, labelMat)"
   ]
  }
 ],
 "metadata": {
  "kernelspec": {
   "display_name": "Python 3",
   "language": "python",
   "name": "python3"
  },
  "language_info": {
   "codemirror_mode": {
    "name": "ipython",
    "version": 3
   },
   "file_extension": ".py",
   "mimetype": "text/x-python",
   "name": "python",
   "nbconvert_exporter": "python",
   "pygments_lexer": "ipython3",
   "version": "3.7.3"
  }
 },
 "nbformat": 4,
 "nbformat_minor": 2
}
