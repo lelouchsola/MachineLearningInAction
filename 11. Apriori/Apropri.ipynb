{
 "cells": [
  {
   "cell_type": "markdown",
   "metadata": {},
   "source": []
  },
  {
   "cell_type": "markdown",
   "metadata": {},
   "source": []
  },
  {
   "cell_type": "code",
   "execution_count": 67,
   "metadata": {},
   "outputs": [
    {
     "name": "stdout",
     "output_type": "stream",
     "text": [
      "\n",
      "Created on Mar 24, 2011\n",
      "Update  on 2017-05-18\n",
      "Ch 11 code\n",
      "Author: Peter/片刻\n",
      "GitHub: https://github.com/apachecn/AiLearning\n"
     ]
    }
   ],
   "source": [
    "#!/usr/bin/python\n",
    "# coding: utf8\n",
    "\n",
    "'''\n",
    "Created on Mar 24, 2011\n",
    "Update  on 2017-05-18\n",
    "Ch 11 code\n",
    "Author: Peter/片刻\n",
    "GitHub: https://github.com/apachecn/AiLearning'''\n",
    "print(__doc__)\n",
    "from numpy import *\n",
    "\n",
    "# 加载数据集\n",
    "def loadDataSet():\n",
    "    return [[1, 3, 4], [2, 3, 5], [1, 2, 3, 5], [2, 5]]\n",
    "\n",
    "# 创建集合 C1。即对 dataSet 进行去重，排序，放入 list 中，然后转换所有的元素为 frozenset\n",
    "def createC1(dataSet):\n",
    "    \"\"\"createC1（创建集合 C1）\n",
    "    Args:\n",
    "        dataSet 原始数据集\n",
    "    Returns:\n",
    "        frozenset 返回一个 frozenset 格式的 list\n",
    "    \"\"\"\n",
    "\n",
    "    C1 = []\n",
    "    for transaction in dataSet:\n",
    "        for item in transaction:\n",
    "            if not [item] in C1:\n",
    "                # 遍历所有的元素，如果不在 C1 出现过，那么就 append\n",
    "                C1.append([item])\n",
    "    # 对数组进行 `从小到大` 的排序\n",
    "    # print 'sort 前=', C1\n",
    "    C1.sort()\n",
    "    # frozenset 表示冻结的 set 集合，元素无改变；可以把它当字典的 key 来使用\n",
    "    # print 'sort 后=', C1\n",
    "    # print 'frozenset=', map(frozenset, C1)\n",
    "    return C1\n",
    "\n",
    "# 计算候选数据集 CK 在数据集 D 中的支持度，并返回支持度大于最小支持度（minSupport）的数据\n",
    "''' 计算候选数据集CK在数据集D中的支持度，返回大于最小支持度的数据'''\n",
    "def scanD(D,Ck,minSupport):\n",
    "    # ssCnt 临时存放所有候选项集和频率.\n",
    "    ssCnt = {}\n",
    "    for tid in D:\n",
    "        #print('1:',tid)\n",
    "        for can in map(frozenset,Ck):      #每个候选项集can\n",
    "            #print('2:',can.issubset(tid),can,tid)\n",
    "            if can.issubset(tid):\n",
    "                if not can in ssCnt:\n",
    "                    ssCnt[can] = 1\n",
    "                else:\n",
    "                    ssCnt[can] +=1\n",
    "\n",
    "    numItems = float(len(D)) # 所有项集数目\n",
    "    # 满足最小支持度的频繁项集\n",
    "    retList  = []\n",
    "    # 满足最小支持度的频繁项集和频率\n",
    "    supportData = {}\n",
    "\n",
    "    for key in ssCnt:\n",
    "        support = ssCnt[key]/numItems   #除以总的记录条数，即为其支持度\n",
    "        if support >= minSupport:\n",
    "            retList.insert(0,key)       #超过最小支持度的项集，将其记录下来。\n",
    "        supportData[key] = support\n",
    "    return retList, supportData"
   ]
  },
  {
   "cell_type": "code",
   "execution_count": 62,
   "metadata": {},
   "outputs": [
    {
     "name": "stdout",
     "output_type": "stream",
     "text": [
      "1: [1, 3, 4]\n",
      "2: True frozenset({1}) [1, 3, 4]\n",
      "2: False frozenset({2}) [1, 3, 4]\n",
      "2: True frozenset({3}) [1, 3, 4]\n",
      "2: True frozenset({4}) [1, 3, 4]\n",
      "2: False frozenset({5}) [1, 3, 4]\n",
      "1: [2, 3, 5]\n",
      "2: False frozenset({1}) [2, 3, 5]\n",
      "2: True frozenset({2}) [2, 3, 5]\n",
      "2: True frozenset({3}) [2, 3, 5]\n",
      "2: False frozenset({4}) [2, 3, 5]\n",
      "2: True frozenset({5}) [2, 3, 5]\n",
      "1: [1, 2, 3, 5]\n",
      "2: True frozenset({1}) [1, 2, 3, 5]\n",
      "2: True frozenset({2}) [1, 2, 3, 5]\n",
      "2: True frozenset({3}) [1, 2, 3, 5]\n",
      "2: False frozenset({4}) [1, 2, 3, 5]\n",
      "2: True frozenset({5}) [1, 2, 3, 5]\n",
      "1: [2, 5]\n",
      "2: False frozenset({1}) [2, 5]\n",
      "2: True frozenset({2}) [2, 5]\n",
      "2: False frozenset({3}) [2, 5]\n",
      "2: False frozenset({4}) [2, 5]\n",
      "2: True frozenset({5}) [2, 5]\n"
     ]
    }
   ],
   "source": [
    "if __name__ == \"__main__\":\n",
    "    data = loadDataSet()\n",
    "    Cset = createC1(data)\n",
    "    popularSet, setSupportData = scanD(data,Cset,0.5)"
   ]
  },
  {
   "cell_type": "code",
   "execution_count": 63,
   "metadata": {},
   "outputs": [
    {
     "data": {
      "text/plain": [
       "[frozenset({5}), frozenset({2}), frozenset({3}), frozenset({1})]"
      ]
     },
     "execution_count": 63,
     "metadata": {},
     "output_type": "execute_result"
    }
   ],
   "source": [
    "popularSet"
   ]
  },
  {
   "cell_type": "code",
   "execution_count": 64,
   "metadata": {},
   "outputs": [],
   "source": [
    "''' Apriori算法：输入频繁项集列表Lk，输出所有可能的候选项集 Ck'''\n",
    "def aprioriGen(Lk, k):\n",
    "    retList = [] # 满足条件的频繁项集\n",
    "    lenLk = len(Lk)\n",
    "    for i in range(lenLk):\n",
    "        for j in range(i+1, lenLk):\n",
    "            L1 = list(Lk[i])[: k-2]\n",
    "            L2 = list(Lk[j])[: k-2]\n",
    "            # print '-----i=', i, k-2, Lk, Lk[i], list(Lk[i])[: k-2]\n",
    "            # print '-----j=', j, k-2, Lk, Lk[j], list(Lk[j])[: k-2]\n",
    "            L1.sort()\n",
    "            L2.sort()\n",
    "            if L1 == L2:\n",
    "                retList.append(Lk[i] | Lk[j])\n",
    "    return retList"
   ]
  },
  {
   "cell_type": "code",
   "execution_count": 65,
   "metadata": {},
   "outputs": [
    {
     "data": {
      "text/plain": [
       "[frozenset({2, 5}),\n",
       " frozenset({3, 5}),\n",
       " frozenset({1, 5}),\n",
       " frozenset({2, 3}),\n",
       " frozenset({1, 2}),\n",
       " frozenset({1, 3})]"
      ]
     },
     "execution_count": 65,
     "metadata": {},
     "output_type": "execute_result"
    }
   ],
   "source": [
    "aprioriGen(popularSet, 2)"
   ]
  },
  {
   "cell_type": "code",
   "execution_count": 66,
   "metadata": {},
   "outputs": [],
   "source": [
    "'''找出数据集中支持度不小于最小支持度的候选项集以及它们的支持度即频繁项集。\n",
    "算法思想：首先构建集合C1，然后扫描数据集来判断这些只有一个元素的项集是否满足最小支持度。满足最小支持度要求的项集构成集合L1。然后L1 中的元素相互组合成C2，C2再进一步过滤变成L2，以此类推，直到C_n的长度为0时结束，即可找出所有频繁项集的支持度。\n",
    "返回：L 频繁项集的全集\n",
    "      supportData 所有元素和支持度的全集\n",
    "'''\n",
    "def apriori(dataSet, minSupport=0.5):\n",
    "    # C1即对dataSet去重排序，然后转换所有的元素为frozenset\n",
    "    C1 = createC1(dataSet)\n",
    "    # 对每一行进行 set 转换，然后存放到集合中\n",
    "    D = list(map(set, dataSet))\n",
    "    # 计算候选数据集C1在数据集D中的支持度，并返回支持度大于minSupport 的数据\n",
    "    L1, supportData = scanD(D, C1, minSupport)\n",
    "    # L 加了一层 list, L一共 2 层 list\n",
    "    L = [L1];k = 2\n",
    "    # 判断L第k-2项的数据长度是否>0即频繁项集第一项。第一次执行时 L 为 [[frozenset([1]), frozenset([3]), frozenset([2]), frozenset([5])]]。L[k-2]=L[0]=[frozenset([1]), frozenset([3]), frozenset([2]), frozenset([5])]，最后面 k += 1\n",
    "    while (len(L[k-2]) > 0):\n",
    "        Ck = aprioriGen(L[k-2], k) # 例如: 以 {0},{1},{2} 为输入且 k = 2 则输出 {0,1}, {0,2}, {1,2}. 以 {0,1},{0,2},{1,2} 为输入且 k = 3 则输出 {0,1,2}\n",
    "\n",
    "        # 返回候选数据集CK在数据集D中的支持度大于最小支持度的数据\n",
    "        Lk, supK = scanD(D, Ck, minSupport)\n",
    "        # 保存所有候选项集的支持度，如果字典没有就追加元素，如果有就更新元素\n",
    "        supportData.update(supK)\n",
    "        if len(Lk) == 0:\n",
    "            break\n",
    "        # Lk 表示满足频繁子项的集合，L 元素在增加，例如:\n",
    "        # l=[[set(1), set(2), set(3)]]\n",
    "        # l=[[set(1), set(2), set(3)], [set(1, 2), set(2, 3)]]\n",
    "        L.append(Lk)\n",
    "        k += 1\n",
    "    return L, supportData"
   ]
  },
  {
   "cell_type": "code",
   "execution_count": 68,
   "metadata": {},
   "outputs": [],
   "source": [
    "'''测试频繁项集生产'''\n",
    "def testApriori():\n",
    "    # 加载测试数据集\n",
    "    dataSet = loadDataSet()\n",
    "    print ('dataSet: ', dataSet)\n",
    "\n",
    "    # Apriori 算法生成频繁项集以及它们的支持度\n",
    "    L1, supportData1 = apriori(dataSet, minSupport=0.7)\n",
    "    print ('L(0.7): ', L1)\n",
    "    print ('supportData(0.7): ', supportData1)\n",
    "\n",
    "    print ('->->->->->->->->->->->->->->->->->->->->->->->->->->->->')\n",
    "\n",
    "    # Apriori 算法生成频繁项集以及它们的支持度\n",
    "    L2, supportData2 = apriori(dataSet, minSupport=0.5)\n",
    "    print ('L(0.5): ', L2)\n",
    "    print ('supportData(0.5): ', supportData2)"
   ]
  },
  {
   "cell_type": "code",
   "execution_count": 69,
   "metadata": {},
   "outputs": [
    {
     "name": "stdout",
     "output_type": "stream",
     "text": [
      "dataSet:  [[1, 3, 4], [2, 3, 5], [1, 2, 3, 5], [2, 5]]\n",
      "L(0.7):  [[frozenset({5}), frozenset({2}), frozenset({3})], [frozenset({2, 5})]]\n",
      "supportData(0.7):  {frozenset({1}): 0.5, frozenset({3}): 0.75, frozenset({4}): 0.25, frozenset({2}): 0.75, frozenset({5}): 0.75, frozenset({2, 5}): 0.75, frozenset({3, 5}): 0.5, frozenset({2, 3}): 0.5}\n",
      "->->->->->->->->->->->->->->->->->->->->->->->->->->->->\n",
      "L(0.5):  [[frozenset({5}), frozenset({2}), frozenset({3}), frozenset({1})], [frozenset({2, 3}), frozenset({3, 5}), frozenset({2, 5}), frozenset({1, 3})], [frozenset({2, 3, 5})]]\n",
      "supportData(0.5):  {frozenset({1}): 0.5, frozenset({3}): 0.75, frozenset({4}): 0.25, frozenset({2}): 0.75, frozenset({5}): 0.75, frozenset({1, 3}): 0.5, frozenset({2, 5}): 0.75, frozenset({3, 5}): 0.5, frozenset({2, 3}): 0.5, frozenset({1, 5}): 0.25, frozenset({1, 2}): 0.25, frozenset({2, 3, 5}): 0.5}\n"
     ]
    }
   ],
   "source": [
    "testApriori()"
   ]
  }
 ],
 "metadata": {
  "kernelspec": {
   "display_name": "Python 3",
   "language": "python",
   "name": "python3"
  },
  "language_info": {
   "codemirror_mode": {
    "name": "ipython",
    "version": 3
   },
   "file_extension": ".py",
   "mimetype": "text/x-python",
   "name": "python",
   "nbconvert_exporter": "python",
   "pygments_lexer": "ipython3",
   "version": "3.7.3"
  }
 },
 "nbformat": 4,
 "nbformat_minor": 2
}
