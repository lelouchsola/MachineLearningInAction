{
 "cells": [
  {
   "cell_type": "markdown",
   "metadata": {},
   "source": [
    "<font color=#0099ff size=4 face=\"黑体\">\n",
    "K-means implenmentation<br>\n",
    "@Author: Ge Chen<br>\n",
    "@Time: 2019-8-26<br>\n",
    "</font>"
   ]
  },
  {
   "cell_type": "markdown",
   "metadata": {},
   "source": [
    "<br>\n",
    "<font color=##000000 size=3 face=\"微软雅黑\">pseudo-code for K-means:</font>\n",
    "<br>\n",
    "<img src=\"pseudo-code_Kmeans.PNG\" align='left' width=\"60%\">\n",
    "<br><br><br><br><br><br>"
   ]
  },
  {
   "cell_type": "markdown",
   "metadata": {},
   "source": [
    "<br>\n",
    "<font color=##000000 size=3 face=\"微软雅黑\">pseudo-code for binary K-means:</font>\n",
    "<br>\n",
    "<img src=\"pseudo-code_Kmeans_binary.PNG\" align='left' width=\"100%\">\n",
    "<br><br><br><br><br><br>"
   ]
  },
  {
   "cell_type": "code",
   "execution_count": 2,
   "metadata": {},
   "outputs": [],
   "source": [
    "from numpy import *\n",
    "from time import sleep\n",
    "import matplotlib\n",
    "from matplotlib import pyplot as plt"
   ]
  },
  {
   "cell_type": "code",
   "execution_count": 3,
   "metadata": {},
   "outputs": [],
   "source": [
    "def loadDataSet(fileName):\n",
    "    '''\n",
    "    加载数据集\n",
    "    :param fileName:\n",
    "    :return:\n",
    "    '''\n",
    "    # 初始化一个空列表\n",
    "    dataSet = []\n",
    "    # 读取文件\n",
    "    fr = open(fileName)\n",
    "    # 循环遍历文件所有行\n",
    "    for line in fr.readlines():\n",
    "        # 切割每一行的数据\n",
    "        curLine = line.strip().split('\\t')\n",
    "        # 将数据转换为浮点类型,便于后面的计算\n",
    "        # fltLine = [float(x) for x in curLine]\n",
    "        # 将数据追加到dataMat\n",
    "        fltLine = list(map(float,curLine))    # 映射所有的元素为 float（浮点数）类型\n",
    "        dataSet.append(fltLine)\n",
    "    # 返回dataMat\n",
    "    return dataSet"
   ]
  },
  {
   "cell_type": "code",
   "execution_count": 4,
   "metadata": {},
   "outputs": [],
   "source": [
    "def distEclud(vecA, vecB):\n",
    "    '''\n",
    "    欧氏距离计算函数\n",
    "    :param vecA:\n",
    "    :param vecB:\n",
    "    :return:\n",
    "    '''\n",
    "    return sqrt(sum(power(vecA - vecB, 2)))"
   ]
  },
  {
   "cell_type": "code",
   "execution_count": 5,
   "metadata": {},
   "outputs": [],
   "source": [
    "def randCent(dataMat, k):\n",
    "    '''\n",
    "    为给定数据集构建一个包含K个随机质心的集合,\n",
    "    随机质心必须要在整个数据集的边界之内,这可以通过找到数据集每一维的最小和最大值来完成\n",
    "    然后生成0到1.0之间的随机数并通过取值范围和最小值,以便确保随机点在数据的边界之内\n",
    "    :param dataMat:\n",
    "    :param k:\n",
    "    :return:\n",
    "    '''\n",
    "    # 获取样本数与特征值\n",
    "    m, n = shape(dataMat)\n",
    "    # 初始化质心,创建(k,n)个以零填充的矩阵\n",
    "    centroids = mat(zeros((k, n)))\n",
    "    # 循环遍历特征值\n",
    "    for j in range(n):\n",
    "        # 计算每一列的最小值\n",
    "        minJ = min(dataMat[:, j])\n",
    "        # 计算每一列的范围值\n",
    "        rangeJ = float(max(dataMat[:, j]) - minJ)\n",
    "        # 计算每一列的质心,并将值赋给centroids\n",
    "        centroids[:, j] = mat(minJ + rangeJ * random.rand(k, 1))\n",
    "    # 返回质心\n",
    "    return centroids"
   ]
  },
  {
   "cell_type": "code",
   "execution_count": 6,
   "metadata": {},
   "outputs": [],
   "source": [
    "def kMeans(dataMat, k, distMeas=distEclud, createCent=randCent):\n",
    "    '''\n",
    "    创建K个质心,然后将每个店分配到最近的质心,再重新计算质心。\n",
    "    这个过程重复数次,直到数据点的簇分配结果不再改变为止\n",
    "    :param dataMat: 数据集\n",
    "    :param k: 簇的数目\n",
    "    :param distMeans: 计算距离\n",
    "    :param createCent: 创建初始质心\n",
    "    :return:\n",
    "    '''\n",
    "    # 获取样本数和特征数\n",
    "    m, n = shape(dataMat)\n",
    "    # 初始化一个矩阵来存储每个点的簇分配结果\n",
    "    # clusterAssment包含两个列:一列记录簇索引值,第二列存储误差(误差是指当前点到簇质心的距离,后面会使用该误差来评价聚类的效果)\n",
    "    clusterAssment = mat(zeros((m, 2)))\n",
    "    # 创建质心,随机K个质心\n",
    "    centroids = createCent(dataMat, k)\n",
    "    # 初始化标志变量,用于判断迭代是否继续,如果True,则继续迭代\n",
    "    clusterChanged = True\n",
    "    while clusterChanged:\n",
    "        clusterChanged = False\n",
    "        # 遍历所有数据找到距离每个点最近的质心,\n",
    "        # 可以通过对每个点遍历所有质心并计算点到每个质心的距离来完成\n",
    "        for i in range(m):\n",
    "            minDist = inf\n",
    "            minIndex = -1\n",
    "            for j in range(k):\n",
    "                # 计算数据点到质心的距离\n",
    "                # 计算距离是使用distMeas参数给出的距离公式,默认距离函数是distEclud\n",
    "                distJI = distMeas(centroids[j, :], dataMat[i, :])\n",
    "                # 如果距离比minDist(最小距离)还小,更新minDist(最小距离)和最小质心的index(索引)\n",
    "                if distJI < minDist:\n",
    "                    minDist = distJI\n",
    "                    minIndex = j\n",
    "            # 如果任一点的簇分配结果发生改变,则更新clusterChanged标志\n",
    "            if clusterAssment[i, 0] != minIndex: clusterChanged = True\n",
    "            # 更新簇分配结果为最小质心的index(索引),minDist(最小距离)的平方\n",
    "            clusterAssment[i, :] = minIndex, minDist ** 2\n",
    "        # print(centroids)\n",
    "        # 遍历所有质心并更新它们的取值\n",
    "        for cent in range(k):\n",
    "            # 通过数据过滤来获得给定簇的所有点\n",
    "            ptsInClust = dataMat[nonzero(clusterAssment[:, 0].A == cent)[0]]\n",
    "            # 计算所有点的均值,axis=0表示沿矩阵的列方向进行均值计算\n",
    "            centroids[cent, :] = mean(ptsInClust, axis=0)\n",
    "    # 返回所有的类质心与点分配结果\n",
    "    return centroids, clusterAssment"
   ]
  },
  {
   "cell_type": "code",
   "execution_count": 7,
   "metadata": {},
   "outputs": [],
   "source": [
    "def biKmeans(dataMat, k, distMeas=distEclud):\n",
    "    '''\n",
    "    在给定数据集,所期望的簇数目和距离计算方法的条件下,函数返回聚类结果\n",
    "    :param dataMat:\n",
    "    :param k:\n",
    "    :param distMeas:\n",
    "    :return:\n",
    "    '''\n",
    "    m, n = shape(dataMat)\n",
    "    # 创建一个矩阵来存储数据集中每个点的簇分配结果及平方误差\n",
    "    clusterAssment = mat(zeros((m, 2)))\n",
    "    # 计算整个数据集的质心,并使用一个列表来保留所有的质心\n",
    "    centroid0 = mean(dataMat, axis=0).tolist()[0]\n",
    "    centList = [centroid0]\n",
    "    # 遍历数据集中所有点来计算每个点到质心的误差值\n",
    "    for j in range(m):\n",
    "        clusterAssment[j, 1] = distMeas(mat(centroid0), dataMat[j, :]) ** 2\n",
    "    # 对簇不停的进行划分,直到得到想要的簇数目为止\n",
    "    while (len(centList) < k):\n",
    "        # 初始化最小SSE为无穷大,用于比较划分前后的SSE\n",
    "        lowestSSE = inf\n",
    "        # 通过考察簇列表中的值来获得当前簇的数目,遍历所有的簇来决定最佳的簇进行划分\n",
    "        for i in range(len(centList)):\n",
    "            # 对每一个簇,将该簇中的所有点堪称一个小的数据集\n",
    "            ptsInCurrCluster = dataMat[nonzero(clusterAssment[:, 0].A == i)[0], :]\n",
    "            # 将ptsInCurrCluster输入到函数kMeans中进行处理,k=2,\n",
    "            # kMeans会生成两个质心(簇),同时给出每个簇的误差值\n",
    "            centroidMat, splitClustAss = kMeans(ptsInCurrCluster, 2, distMeas)\n",
    "            # 将误差值与剩余数据集的误差之和作为本次划分的误差\n",
    "            sseSplit = sum(splitClustAss[:, 1])\n",
    "            sseNotSplit = sum(clusterAssment[nonzero(clusterAssment[:, 0].A != i)[0], 1])\n",
    "            print('sseSplit, and notSplit: ', sseSplit, sseNotSplit)\n",
    "            # 如果本次划分的SSE值最小,则本次划分被保存\n",
    "            if (sseSplit + sseNotSplit) < lowestSSE:\n",
    "                bestCentToSplit = i\n",
    "                bestNewCents = centroidMat\n",
    "                bestClustAss = splitClustAss.copy()\n",
    "                lowestSSE = sseSplit + sseNotSplit\n",
    "        # 找出最好的簇分配结果\n",
    "        # 调用kmeans函数并且指定簇数为2时,会得到两个编号分别为0和1的结果簇\n",
    "        bestClustAss[nonzero(bestClustAss[:, 0].A == 1)[0], 0] = len(centList)\n",
    "        # 更新为最佳质心\n",
    "        bestClustAss[nonzero(bestClustAss[:, 0].A == 0)[0], 0] = bestCentToSplit\n",
    "        print('the bestCentToSplit is: ', bestCentToSplit)\n",
    "        print('the len of bestClustAss is: ', len(bestClustAss))\n",
    "        # 更新质心列表\n",
    "        # 更新原质心list中的第i个质心为使用二分kMeans后bestNewCents的第一个质心\n",
    "        centList[bestCentToSplit] = bestNewCents[0, :].tolist()[0]\n",
    "        # 添加bestNewCents的第二个质心\n",
    "        centList.append(bestNewCents[1, :].tolist()[0])\n",
    "        # 重新分配最好簇下的数据(质心)以及SSE\n",
    "        clusterAssment[nonzero(clusterAssment[:, 0].A == bestCentToSplit)[0], :] = bestClustAss\n",
    "    return mat(centList), clusterAssment"
   ]
  },
  {
   "cell_type": "code",
   "execution_count": 8,
   "metadata": {},
   "outputs": [],
   "source": [
    "def distSLC(vecA, vecB):\n",
    "    '''\n",
    "    返回地球表面两点间的距离,单位是英里\n",
    "    给定两个点的经纬度,可以使用球面余弦定理来计算亮点的距离\n",
    "    :param vecA:\n",
    "    :param vecB:\n",
    "    :return:\n",
    "    '''\n",
    "    # 经度和维度用角度作为单位,但是sin()和cos()以弧度为输入.\n",
    "    # 可以将江都除以180度然后再诚意圆周率pi转换为弧度\n",
    "    a = sin(vecA[0, 1] * pi / 180) * sin(vecB[0, 1] * pi / 180)\n",
    "    b = cos(vecA[0, 1] * pi / 180) * cos(vecB[0, 1] * pi / 180) * \\\n",
    "        cos(pi * (vecB[0, 0] - vecA[0, 0]) / 180)\n",
    "    return arccos(a + b) * 6371.0"
   ]
  },
  {
   "cell_type": "code",
   "execution_count": 11,
   "metadata": {},
   "outputs": [],
   "source": [
    "def testBiKMeans():\n",
    "    # 加载测试数据集\n",
    "    dataMat = mat(loadDataSet(r'..\\data\\Ch10\\testSet2.txt'))\n",
    "\n",
    "    centList, myNewAssments = biKmeans(dataMat, 3)\n",
    "\n",
    "    print('centList=', centList)"
   ]
  },
  {
   "cell_type": "code",
   "execution_count": 12,
   "metadata": {},
   "outputs": [
    {
     "name": "stdout",
     "output_type": "stream",
     "text": [
      "sseSplit, and notSplit:  453.0334895807502 0.0\n",
      "the bestCentToSplit is:  0\n",
      "the len of bestClustAss is:  60\n",
      "sseSplit, and notSplit:  77.59224931775066 29.15724944412535\n",
      "sseSplit, and notSplit:  12.753263136887313 423.8762401366249\n",
      "the bestCentToSplit is:  0\n",
      "the len of bestClustAss is:  40\n",
      "centList= [[ 2.93386365  3.12782785]\n",
      " [-0.45965615 -2.7782156 ]\n",
      " [-2.94737575  3.3263781 ]]\n"
     ]
    }
   ],
   "source": [
    "if __name__ == \"__main__\":\n",
    "    testBiKMeans()"
   ]
  }
 ],
 "metadata": {
  "kernelspec": {
   "display_name": "Python 3",
   "language": "python",
   "name": "python3"
  },
  "language_info": {
   "codemirror_mode": {
    "name": "ipython",
    "version": 3
   },
   "file_extension": ".py",
   "mimetype": "text/x-python",
   "name": "python",
   "nbconvert_exporter": "python",
   "pygments_lexer": "ipython3",
   "version": "3.7.3"
  }
 },
 "nbformat": 4,
 "nbformat_minor": 2
}
